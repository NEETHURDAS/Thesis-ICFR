{
 "cells": [
  {
   "cell_type": "code",
   "execution_count": 48,
   "id": "a04a9c04",
   "metadata": {},
   "outputs": [],
   "source": [
    "import pandas as pd\n",
    "import matplotlib.pyplot as plt\n",
    "import seaborn as sns"
   ]
  },
  {
   "cell_type": "code",
   "execution_count": 2,
   "id": "1d085bf2",
   "metadata": {},
   "outputs": [],
   "source": [
    "excel_file='C:\\\\Users\\\\creat\\\\OneDrive - Högskolan Dalarna\\\\thesis\\\\Updated_annual_data_with_merge-2.xlsx'\n",
    "raw_data=pd.read_excel(excel_file)"
   ]
  },
  {
   "cell_type": "code",
   "execution_count": 38,
   "id": "63c69845",
   "metadata": {},
   "outputs": [],
   "source": [
    "data=pd.read_excel(excel_file)"
   ]
  },
  {
   "cell_type": "code",
   "execution_count": 39,
   "id": "97077206",
   "metadata": {},
   "outputs": [
    {
     "data": {
      "text/plain": [
       "Index(['disclosure_id', 'company_fkey', 'date_of_disclosure', 'industry',\n",
       "       'form_type', 'submitted_date', 'year_of_disclosure', 'is_effective',\n",
       "       'is_material_weakness', 'text_disclosure', 'having_10a',\n",
       "       'disclosures_per_comp', 'first_disclosure_year', 'last_disclosure_year',\n",
       "       'Total word  Count', 'Difficult Words', 'Sentence Count',\n",
       "       'Syllable Count', 'Gunning Fog Index', 'boilerplate_word_count',\n",
       "       'redundant_word_count', 'Control Activities_total',\n",
       "       'Control Environment_total', 'General terms_total',\n",
       "       'Information and Communication_total', 'Monitoring_total',\n",
       "       'Risk Assessment_total', 'Control Activities_Unique',\n",
       "       'Control Environment_Unique', 'General terms_unique',\n",
       "       'Information and Communication_Unique', 'Monitoring_Unique',\n",
       "       'Risk Assessment_Unique', 'Cluster'],\n",
       "      dtype='object')"
      ]
     },
     "execution_count": 39,
     "metadata": {},
     "output_type": "execute_result"
    }
   ],
   "source": [
    "data.columns"
   ]
  },
  {
   "cell_type": "code",
   "execution_count": 40,
   "id": "d0479099",
   "metadata": {},
   "outputs": [],
   "source": [
    "# Calculate new composite variables\n",
    "data['average sentence']=data['Total word  Count']/data['Sentence Count']\n",
    "\n",
    "#data['perc_difficult_words'] = data['Difficult Words'] / data['Total word  Count']\n",
    "\n",
    "data['perc_boilerplate'] = data['boilerplate_word_count'] / data['Total word  Count']\n",
    "\n",
    "#data['perc_redundant_words'] = data['redundant_word_count'] / data['Total word  Count']\n",
    "data['complexity_metric'] = (data['Difficult Words'] + data['Syllable Count'])/2\n",
    "\n"
   ]
  },
  {
   "cell_type": "code",
   "execution_count": 86,
   "id": "26a90f17",
   "metadata": {},
   "outputs": [],
   "source": [
    "# Calculate new composite variables\n",
    "data['Control Activities_percentage'] = (data['Control Activities_unique'] / data['Control Activities_totaloccurences'])*100\n",
    "data['Control Environment_percentage'] = (data['Control Environment_unique'] / data['Control Environment_totaloccurences'])*100\n",
    "data['General_percentage'] = (data['General_unique'] / data['General_totaloccurences'])*100\n",
    "data['Monitoring_percentage'] = (data['Monitoring_unique'] / data['Monitoring_totaloccurences'])*100\n",
    "data['Risk Assessment_percentage']=(data['Risk Assessment_unique']/data['Risk Assessment_totaloccurences'])*100\n",
    "data['Information and Communication_percentage']=(data['Information and Communication_unique']/data['Information and Communication_totaloccurences'])*100"
   ]
  },
  {
   "cell_type": "code",
   "execution_count": 48,
   "id": "10313492",
   "metadata": {},
   "outputs": [],
   "source": [
    "# Replace NaN values with 0\n",
    "data.fillna(0, inplace=True)"
   ]
  },
  {
   "cell_type": "markdown",
   "id": "77655066",
   "metadata": {},
   "source": [
    "# Varience Inflation Factor-multicollinearity"
   ]
  },
  {
   "cell_type": "code",
   "execution_count": 41,
   "id": "01d7f880",
   "metadata": {},
   "outputs": [],
   "source": [
    "import statsmodels\n",
    "from statsmodels.stats.outliers_influence import variance_inflation_factor"
   ]
  },
  {
   "cell_type": "code",
   "execution_count": 42,
   "id": "a51b6385",
   "metadata": {},
   "outputs": [],
   "source": [
    "def calculate_vif(dataset):\n",
    "    vif=pd.DataFrame()\n",
    "    vif[\"features\"]=dataset.columns\n",
    "    vif[\"VIF_value\"]=[variance_inflation_factor(dataset.values,i)for i in range(len(dataset.columns))]\n",
    "    return(vif)"
   ]
  },
  {
   "cell_type": "code",
   "execution_count": 43,
   "id": "d77e835f",
   "metadata": {},
   "outputs": [
    {
     "data": {
      "text/plain": [
       "Index(['disclosure_id', 'company_fkey', 'date_of_disclosure', 'industry',\n",
       "       'form_type', 'submitted_date', 'year_of_disclosure', 'is_effective',\n",
       "       'is_material_weakness', 'text_disclosure', 'having_10a',\n",
       "       'disclosures_per_comp', 'first_disclosure_year', 'last_disclosure_year',\n",
       "       'Total word  Count', 'Difficult Words', 'Sentence Count',\n",
       "       'Syllable Count', 'Gunning Fog Index', 'boilerplate_word_count',\n",
       "       'redundant_word_count', 'Control Activities_total',\n",
       "       'Control Environment_total', 'General terms_total',\n",
       "       'Information and Communication_total', 'Monitoring_total',\n",
       "       'Risk Assessment_total', 'Control Activities_Unique',\n",
       "       'Control Environment_Unique', 'General terms_unique',\n",
       "       'Information and Communication_Unique', 'Monitoring_Unique',\n",
       "       'Risk Assessment_Unique', 'Cluster', 'average sentence',\n",
       "       'perc_boilerplate', 'complexity_metric'],\n",
       "      dtype='object')"
      ]
     },
     "execution_count": 43,
     "metadata": {},
     "output_type": "execute_result"
    }
   ],
   "source": [
    "data.columns"
   ]
  },
  {
   "cell_type": "code",
   "execution_count": 44,
   "id": "cbc1fa24",
   "metadata": {},
   "outputs": [],
   "source": [
    "features=data"
   ]
  },
  {
   "cell_type": "code",
   "execution_count": 45,
   "id": "6f8b2fb5",
   "metadata": {},
   "outputs": [
    {
     "data": {
      "text/plain": [
       "Index(['disclosure_id', 'company_fkey', 'date_of_disclosure', 'industry',\n",
       "       'form_type', 'submitted_date', 'year_of_disclosure', 'is_effective',\n",
       "       'is_material_weakness', 'text_disclosure', 'having_10a',\n",
       "       'disclosures_per_comp', 'first_disclosure_year', 'last_disclosure_year',\n",
       "       'Total word  Count', 'Difficult Words', 'Sentence Count',\n",
       "       'Syllable Count', 'Gunning Fog Index', 'boilerplate_word_count',\n",
       "       'redundant_word_count', 'Control Activities_total',\n",
       "       'Control Environment_total', 'General terms_total',\n",
       "       'Information and Communication_total', 'Monitoring_total',\n",
       "       'Risk Assessment_total', 'Control Activities_Unique',\n",
       "       'Control Environment_Unique', 'General terms_unique',\n",
       "       'Information and Communication_Unique', 'Monitoring_Unique',\n",
       "       'Risk Assessment_Unique', 'Cluster', 'average sentence',\n",
       "       'perc_boilerplate', 'complexity_metric'],\n",
       "      dtype='object')"
      ]
     },
     "execution_count": 45,
     "metadata": {},
     "output_type": "execute_result"
    }
   ],
   "source": [
    "features.columns"
   ]
  },
  {
   "cell_type": "code",
   "execution_count": 46,
   "id": "41a8ba3a",
   "metadata": {},
   "outputs": [],
   "source": [
    "#dropping columns\n",
    "features=data.drop(['disclosure_id', 'company_fkey', 'date_of_disclosure', 'industry',\n",
    "       'form_type', 'submitted_date', 'year_of_disclosure', 'is_effective',\n",
    "       'is_material_weakness', 'text_disclosure', 'having_10a',\n",
    "       'disclosures_per_comp', 'first_disclosure_year', 'last_disclosure_year',\n",
    "       'Total word  Count', 'Difficult Words', 'Sentence Count',\n",
    "       'Syllable Count', 'Gunning Fog Index', 'boilerplate_word_count',\n",
    "       'redundant_word_count', 'Control Activities_total',\n",
    "       'Control Environment_total', 'General terms_total',\n",
    "       'Information and Communication_total', 'Monitoring_total',\n",
    "       'Risk Assessment_total', 'Control Activities_Unique',\n",
    "       'Control Environment_Unique', 'General terms_unique',\n",
    "       'Information and Communication_Unique', 'Monitoring_Unique',\n",
    "       'Risk Assessment_Unique', 'Cluster'],\n",
    "       axis=1)"
   ]
  },
  {
   "cell_type": "code",
   "execution_count": 47,
   "id": "a6c5b54e",
   "metadata": {},
   "outputs": [
    {
     "data": {
      "text/html": [
       "<div>\n",
       "<style scoped>\n",
       "    .dataframe tbody tr th:only-of-type {\n",
       "        vertical-align: middle;\n",
       "    }\n",
       "\n",
       "    .dataframe tbody tr th {\n",
       "        vertical-align: top;\n",
       "    }\n",
       "\n",
       "    .dataframe thead th {\n",
       "        text-align: right;\n",
       "    }\n",
       "</style>\n",
       "<table border=\"1\" class=\"dataframe\">\n",
       "  <thead>\n",
       "    <tr style=\"text-align: right;\">\n",
       "      <th></th>\n",
       "      <th>average sentence</th>\n",
       "      <th>perc_boilerplate</th>\n",
       "      <th>complexity_metric</th>\n",
       "    </tr>\n",
       "  </thead>\n",
       "  <tbody>\n",
       "    <tr>\n",
       "      <th>0</th>\n",
       "      <td>93.187500</td>\n",
       "      <td>0.267606</td>\n",
       "      <td>2039.5</td>\n",
       "    </tr>\n",
       "    <tr>\n",
       "      <th>1</th>\n",
       "      <td>39.636364</td>\n",
       "      <td>0.440367</td>\n",
       "      <td>613.5</td>\n",
       "    </tr>\n",
       "    <tr>\n",
       "      <th>2</th>\n",
       "      <td>32.800000</td>\n",
       "      <td>0.432927</td>\n",
       "      <td>474.0</td>\n",
       "    </tr>\n",
       "    <tr>\n",
       "      <th>3</th>\n",
       "      <td>32.600000</td>\n",
       "      <td>0.509202</td>\n",
       "      <td>233.0</td>\n",
       "    </tr>\n",
       "    <tr>\n",
       "      <th>4</th>\n",
       "      <td>31.222222</td>\n",
       "      <td>0.448399</td>\n",
       "      <td>399.5</td>\n",
       "    </tr>\n",
       "  </tbody>\n",
       "</table>\n",
       "</div>"
      ],
      "text/plain": [
       "   average sentence  perc_boilerplate  complexity_metric\n",
       "0         93.187500          0.267606             2039.5\n",
       "1         39.636364          0.440367              613.5\n",
       "2         32.800000          0.432927              474.0\n",
       "3         32.600000          0.509202              233.0\n",
       "4         31.222222          0.448399              399.5"
      ]
     },
     "execution_count": 47,
     "metadata": {},
     "output_type": "execute_result"
    }
   ],
   "source": [
    "features.head()"
   ]
  },
  {
   "cell_type": "code",
   "execution_count": 37,
   "id": "bd45f62f",
   "metadata": {},
   "outputs": [
    {
     "data": {
      "text/html": [
       "<div>\n",
       "<style scoped>\n",
       "    .dataframe tbody tr th:only-of-type {\n",
       "        vertical-align: middle;\n",
       "    }\n",
       "\n",
       "    .dataframe tbody tr th {\n",
       "        vertical-align: top;\n",
       "    }\n",
       "\n",
       "    .dataframe thead th {\n",
       "        text-align: right;\n",
       "    }\n",
       "</style>\n",
       "<table border=\"1\" class=\"dataframe\">\n",
       "  <thead>\n",
       "    <tr style=\"text-align: right;\">\n",
       "      <th></th>\n",
       "      <th>features</th>\n",
       "      <th>VIF_value</th>\n",
       "    </tr>\n",
       "  </thead>\n",
       "  <tbody>\n",
       "    <tr>\n",
       "      <th>0</th>\n",
       "      <td>average sentence</td>\n",
       "      <td>4.397767</td>\n",
       "    </tr>\n",
       "    <tr>\n",
       "      <th>1</th>\n",
       "      <td>perc_boilerplate</td>\n",
       "      <td>94.364655</td>\n",
       "    </tr>\n",
       "    <tr>\n",
       "      <th>2</th>\n",
       "      <td>complexity_metric</td>\n",
       "      <td>99.967252</td>\n",
       "    </tr>\n",
       "  </tbody>\n",
       "</table>\n",
       "</div>"
      ],
      "text/plain": [
       "            features  VIF_value\n",
       "0   average sentence   4.397767\n",
       "1   perc_boilerplate  94.364655\n",
       "2  complexity_metric  99.967252"
      ]
     },
     "execution_count": 37,
     "metadata": {},
     "output_type": "execute_result"
    }
   ],
   "source": [
    "calculate_vif(features)"
   ]
  },
  {
   "cell_type": "code",
   "execution_count": 38,
   "id": "5d88d39d",
   "metadata": {},
   "outputs": [],
   "source": [
    "from sklearn.model_selection import train_test_split\n",
    "from sklearn.linear_model import LogisticRegression\n",
    "from sklearn.metrics import accuracy_score, confusion_matrix\n",
    "import numpy as np\n",
    "import pandas as pd\n",
    "import statsmodels.api as smf\n",
    "from scipy import stats\n",
    "from statsmodels.formula.api import logit\n"
   ]
  },
  {
   "cell_type": "code",
   "execution_count": 43,
   "id": "91660ad5",
   "metadata": {},
   "outputs": [],
   "source": [
    "import statsmodels.formula.api as smf\n",
    "import pandas as pd"
   ]
  },
  {
   "cell_type": "code",
   "execution_count": 40,
   "id": "23900242",
   "metadata": {},
   "outputs": [
    {
     "data": {
      "text/html": [
       "<div>\n",
       "<style scoped>\n",
       "    .dataframe tbody tr th:only-of-type {\n",
       "        vertical-align: middle;\n",
       "    }\n",
       "\n",
       "    .dataframe tbody tr th {\n",
       "        vertical-align: top;\n",
       "    }\n",
       "\n",
       "    .dataframe thead th {\n",
       "        text-align: right;\n",
       "    }\n",
       "</style>\n",
       "<table border=\"1\" class=\"dataframe\">\n",
       "  <thead>\n",
       "    <tr style=\"text-align: right;\">\n",
       "      <th></th>\n",
       "      <th>Average sentence length</th>\n",
       "      <th>complexity_metric</th>\n",
       "      <th>Boiler_plate_Density</th>\n",
       "    </tr>\n",
       "  </thead>\n",
       "  <tbody>\n",
       "    <tr>\n",
       "      <th>0</th>\n",
       "      <td>93.187500</td>\n",
       "      <td>2039.5</td>\n",
       "      <td>0.267606</td>\n",
       "    </tr>\n",
       "    <tr>\n",
       "      <th>1</th>\n",
       "      <td>39.636364</td>\n",
       "      <td>613.5</td>\n",
       "      <td>0.440367</td>\n",
       "    </tr>\n",
       "    <tr>\n",
       "      <th>2</th>\n",
       "      <td>32.800000</td>\n",
       "      <td>474.0</td>\n",
       "      <td>0.432927</td>\n",
       "    </tr>\n",
       "    <tr>\n",
       "      <th>3</th>\n",
       "      <td>32.600000</td>\n",
       "      <td>233.0</td>\n",
       "      <td>0.509202</td>\n",
       "    </tr>\n",
       "    <tr>\n",
       "      <th>4</th>\n",
       "      <td>31.222222</td>\n",
       "      <td>399.5</td>\n",
       "      <td>0.448399</td>\n",
       "    </tr>\n",
       "  </tbody>\n",
       "</table>\n",
       "</div>"
      ],
      "text/plain": [
       "   Average sentence length  complexity_metric  Boiler_plate_Density\n",
       "0                93.187500             2039.5              0.267606\n",
       "1                39.636364              613.5              0.440367\n",
       "2                32.800000              474.0              0.432927\n",
       "3                32.600000              233.0              0.509202\n",
       "4                31.222222              399.5              0.448399"
      ]
     },
     "execution_count": 40,
     "metadata": {},
     "output_type": "execute_result"
    }
   ],
   "source": [
    "features.head()\n",
    "#data.head()"
   ]
  },
  {
   "cell_type": "code",
   "execution_count": 42,
   "id": "cd5261d5",
   "metadata": {},
   "outputs": [
    {
     "ename": "NameError",
     "evalue": "name 'sm' is not defined",
     "output_type": "error",
     "traceback": [
      "\u001b[1;31m---------------------------------------------------------------------------\u001b[0m",
      "\u001b[1;31mNameError\u001b[0m                                 Traceback (most recent call last)",
      "Cell \u001b[1;32mIn[42], line 6\u001b[0m\n\u001b[0;32m      3\u001b[0m y\u001b[38;5;241m=\u001b[39mdata[\u001b[38;5;124m'\u001b[39m\u001b[38;5;124mis_material_weakness\u001b[39m\u001b[38;5;124m'\u001b[39m]\n\u001b[0;32m      5\u001b[0m \u001b[38;5;66;03m# Add constant term to the independent variable matrix\u001b[39;00m\n\u001b[1;32m----> 6\u001b[0m X \u001b[38;5;241m=\u001b[39m sm\u001b[38;5;241m.\u001b[39madd_constant(X)\n\u001b[0;32m      7\u001b[0m \u001b[38;5;66;03m# Step 3: Split the dataset into training and testing sets\u001b[39;00m\n\u001b[0;32m      8\u001b[0m X_train, X_test, y_train, y_test \u001b[38;5;241m=\u001b[39m train_test_split(X, y, train_size \u001b[38;5;241m=\u001b[39m \u001b[38;5;241m0.8\u001b[39m, test_size\u001b[38;5;241m=\u001b[39m\u001b[38;5;241m0.2\u001b[39m, random_state\u001b[38;5;241m=\u001b[39m\u001b[38;5;241m15\u001b[39m)\n",
      "\u001b[1;31mNameError\u001b[0m: name 'sm' is not defined"
     ]
    }
   ],
   "source": [
    "independent_variables=['Average sentence length','complexity_metric','Boiler_plate_Density']\n",
    "X=data[independent_variables]\n",
    "y=data['is_material_weakness']\n",
    "\n",
    "# Add constant term to the independent variable matrix\n",
    "X = sm.add_constant(X)\n",
    "# Step 3: Split the dataset into training and testing sets\n",
    "X_train, X_test, y_train, y_test = train_test_split(X, y, train_size = 0.8, test_size=0.2, random_state=15)\n",
    "print('train',len(X_train),'test',len(X_test))\n",
    "\n"
   ]
  },
  {
   "cell_type": "code",
   "execution_count": 33,
   "id": "577a6175",
   "metadata": {},
   "outputs": [
    {
     "name": "stdout",
     "output_type": "stream",
     "text": [
      "Optimization terminated successfully.\n",
      "         Current function value: 0.325029\n",
      "         Iterations 8\n",
      "                            Logit Regression Results                            \n",
      "================================================================================\n",
      "Dep. Variable:     is_material_weakness   No. Observations:                23648\n",
      "Model:                            Logit   Df Residuals:                    23644\n",
      "Method:                             MLE   Df Model:                            3\n",
      "Date:                  Sat, 06 Apr 2024   Pseudo R-squ.:                  0.3381\n",
      "Time:                          21:01:33   Log-Likelihood:                -7686.3\n",
      "converged:                         True   LL-Null:                       -11612.\n",
      "Covariance Type:              nonrobust   LLR p-value:                     0.000\n",
      "========================================================================================\n",
      "                           coef    std err          z      P>|z|      [0.025      0.975]\n",
      "----------------------------------------------------------------------------------------\n",
      "const                  -13.2838      0.298    -44.649      0.000     -13.867     -12.701\n",
      "Avg_Sentence           -30.8233      1.860    -16.573      0.000     -34.469     -27.178\n",
      "complexity_metric        0.0090      0.000     47.613      0.000       0.009       0.009\n",
      "Boiler_plate_Density   163.2181      4.189     38.967      0.000     155.009     171.428\n",
      "========================================================================================\n"
     ]
    }
   ],
   "source": [
    "logit_model=sm.Logit(y_train,X_train).fit()\n",
    "print(logit_model.summary())"
   ]
  },
  {
   "cell_type": "code",
   "execution_count": 34,
   "id": "9651ade7",
   "metadata": {},
   "outputs": [
    {
     "name": "stdout",
     "output_type": "stream",
     "text": [
      "const                   -13.283812\n",
      "Avg_Sentence            -30.823281\n",
      "complexity_metric         0.009003\n",
      "Boiler_plate_Density    163.218086\n",
      "dtype: float64\n"
     ]
    }
   ],
   "source": [
    "print(logit_model.params)"
   ]
  },
  {
   "cell_type": "code",
   "execution_count": 35,
   "id": "d8830f29",
   "metadata": {},
   "outputs": [
    {
     "name": "stdout",
     "output_type": "stream",
     "text": [
      "const                   1.701821e-06\n",
      "Avg_Sentence            4.107895e-14\n",
      "complexity_metric       1.009044e+00\n",
      "Boiler_plate_Density    7.668568e+70\n",
      "dtype: float64\n"
     ]
    }
   ],
   "source": [
    "print(np.exp(logit_model.params))"
   ]
  },
  {
   "cell_type": "code",
   "execution_count": 36,
   "id": "6da5c9ba",
   "metadata": {},
   "outputs": [
    {
     "name": "stdout",
     "output_type": "stream",
     "text": [
      "15380.563487042818\n"
     ]
    }
   ],
   "source": [
    "print(logit_model.aic)"
   ]
  },
  {
   "cell_type": "code",
   "execution_count": null,
   "id": "2e48f82a",
   "metadata": {},
   "outputs": [],
   "source": []
  }
 ],
 "metadata": {
  "kernelspec": {
   "display_name": "Python 3 (ipykernel)",
   "language": "python",
   "name": "python3"
  },
  "language_info": {
   "codemirror_mode": {
    "name": "ipython",
    "version": 3
   },
   "file_extension": ".py",
   "mimetype": "text/x-python",
   "name": "python",
   "nbconvert_exporter": "python",
   "pygments_lexer": "ipython3",
   "version": "3.11.5"
  }
 },
 "nbformat": 4,
 "nbformat_minor": 5
}
